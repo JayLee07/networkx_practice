{
 "cells": [
  {
   "cell_type": "code",
   "execution_count": 5,
   "metadata": {
    "collapsed": true
   },
   "outputs": [],
   "source": [
    "import networkx as nx\n",
    "import numpy as np\n",
    "import pandas as pd\n",
    "%matplotlib inline\n",
    "import operator"
   ]
  },
  {
   "cell_type": "code",
   "execution_count": 3,
   "metadata": {
    "collapsed": true
   },
   "outputs": [],
   "source": [
    "undirected_G = nx.read_adjlist('dataset/karate.adjlist', create_using=nx.Graph(), nodetype=str)\n",
    "directed_G = nx.read_edgelist('dataset/email_network.txt', delimiter='\\t', create_using=nx.DiGraph(), \\\n",
    "                              nodetype=str, data = [('time', int)])"
   ]
  },
  {
   "cell_type": "code",
   "execution_count": 8,
   "metadata": {},
   "outputs": [],
   "source": [
    "hubs1, authority1 = nx.hits(undirected_G)\n",
    "hubs2, authority2 = nx.hits(directed_G)"
   ]
  },
  {
   "cell_type": "code",
   "execution_count": 12,
   "metadata": {},
   "outputs": [
    {
     "name": "stdout",
     "output_type": "stream",
     "text": [
      "[('34', 0.0750029421463428), ('1', 0.07141272875773574), ('3', 0.06371906453963269), ('33', 0.06200184647463987)]\n",
      "[('34', 0.07500294224371072), ('1', 0.07141272880870857), ('3', 0.06371906455587137), ('33', 0.062001846535505625)]\n"
     ]
    }
   ],
   "source": [
    "print(sorted(hubs1.items(), key = operator.itemgetter(1), reverse=True)[0:4])\n",
    "print(sorted(authority1.items(), key = operator.itemgetter(1), reverse=True)[0:4])"
   ]
  },
  {
   "cell_type": "code",
   "execution_count": 13,
   "metadata": {},
   "outputs": [
    {
     "name": "stdout",
     "output_type": "stream",
     "text": [
      "[('38', 0.018859566239642075), ('113', 0.018687716123109266), ('37', 0.018641985410942096), ('45', 0.018641799288162234)]\n",
      "[('45', 0.016065479626594003), ('1', 0.015604751040655574), ('37', 0.015005095310358575), ('35', 0.014969821619831191)]\n"
     ]
    }
   ],
   "source": [
    "print(sorted(hubs2.items(), key = operator.itemgetter(1), reverse=True)[0:4])\n",
    "print(sorted(authority2.items(), key = operator.itemgetter(1), reverse=True)[0:4])"
   ]
  },
  {
   "cell_type": "code",
   "execution_count": null,
   "metadata": {
    "collapsed": true
   },
   "outputs": [],
   "source": []
  }
 ],
 "metadata": {
  "kernelspec": {
   "display_name": "Python 3",
   "language": "python",
   "name": "python3"
  },
  "language_info": {
   "codemirror_mode": {
    "name": "ipython",
    "version": 3
   },
   "file_extension": ".py",
   "mimetype": "text/x-python",
   "name": "python",
   "nbconvert_exporter": "python",
   "pygments_lexer": "ipython3",
   "version": "3.6.1"
  }
 },
 "nbformat": 4,
 "nbformat_minor": 2
}
