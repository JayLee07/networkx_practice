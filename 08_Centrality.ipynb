{
 "cells": [
  {
   "cell_type": "code",
   "execution_count": 1,
   "metadata": {
    "collapsed": true
   },
   "outputs": [],
   "source": [
    "import networkx as nx\n",
    "import numpy as np\n",
    "import pandas as pd\n",
    "%matplotlib inline"
   ]
  },
  {
   "cell_type": "code",
   "execution_count": 2,
   "metadata": {
    "collapsed": true
   },
   "outputs": [],
   "source": [
    "undirected_G = nx.read_adjlist('dataset/karate.adjlist')\n",
    "directed_G = nx.read_edgelist('dataset/email_network.txt', delimiter='\\t', nodetype=str, \\\n",
    "                         create_using=nx.DiGraph(), data = [('time', int)])"
   ]
  },
  {
   "cell_type": "markdown",
   "metadata": {},
   "source": [
    "## Centrality: the most important nodes"
   ]
  },
  {
   "cell_type": "markdown",
   "metadata": {},
   "source": [
    "### (1) Degree centrality\n",
    "#### 'Important nodes have many connections'\n",
    "#### For undirected graph, just use degree: C_deg(v) = (degree of v) / (# of nodes - 1)\n",
    "#### For directed graph, use in-degree or out-degree\n",
    "##### C_indeg(v) = (in-degree of v) / (# of nodes -1)\n",
    "##### C_outdeg(v) = (out-degree of v) / (# of nodes - 1)"
   ]
  },
  {
   "cell_type": "code",
   "execution_count": 7,
   "metadata": {
    "collapsed": true
   },
   "outputs": [],
   "source": [
    "C_deg = nx.degree_centrality(undirected_G)\n",
    "C_indeg = nx.in_degree_centrality(directed_G)\n",
    "C_outdeg = nx.out_degree_centrality(directed_G)"
   ]
  },
  {
   "cell_type": "markdown",
   "metadata": {},
   "source": [
    "### (2) Closeness centrality\n",
    "#### 'Important nodes are close to other nodes'\n",
    "#### C_close(v) = (# of nodes - 1) / sum(length of shortest path to other nodes)\n",
    "#### Usually, there exist several disconnected nodes. In these cases, normalizing by the fraction of nodes v can reach"
   ]
  },
  {
   "cell_type": "code",
   "execution_count": 18,
   "metadata": {},
   "outputs": [
    {
     "name": "stdout",
     "output_type": "stream",
     "text": [
      "True\n"
     ]
    }
   ],
   "source": [
    "C_close1 = nx.closeness_centrality(undirected_G, wf_improved=False) # not normalizing\n",
    "C_close2 = nx.closeness_centrality(undirected_G, wf_improved=True) # normalizing\n",
    "print(C_close1 == C_close2)"
   ]
  },
  {
   "cell_type": "code",
   "execution_count": 19,
   "metadata": {},
   "outputs": [
    {
     "name": "stdout",
     "output_type": "stream",
     "text": [
      "False\n"
     ]
    }
   ],
   "source": [
    "C_close1 = nx.closeness_centrality(directed_G, wf_improved=False)\n",
    "C_close2 = nx.closeness_centrality(directed_G, wf_improved=True)\n",
    "print(C_close1 == C_close2)"
   ]
  },
  {
   "cell_type": "markdown",
   "metadata": {
    "collapsed": true
   },
   "source": [
    "### (3) Betweenness Centrality"
   ]
  },
  {
   "cell_type": "markdown",
   "metadata": {
    "collapsed": true
   },
   "source": [
    "#### 'Important nodes connect other nodes'\n",
    "#### C_btw(v) = (# of shortest path that pass node v) / (# of shortest path)"
   ]
  },
  {
   "cell_type": "code",
   "execution_count": 22,
   "metadata": {
    "collapsed": true
   },
   "outputs": [],
   "source": [
    "import operator"
   ]
  },
  {
   "cell_type": "code",
   "execution_count": 41,
   "metadata": {},
   "outputs": [
    {
     "data": {
      "text/plain": [
       "[('1', 0.4376352813852815),\n",
       " ('34', 0.30407497594997596),\n",
       " ('33', 0.14524711399711404),\n",
       " ('3', 0.14365680615680615),\n",
       " ('32', 0.13827561327561327)]"
      ]
     },
     "execution_count": 41,
     "metadata": {},
     "output_type": "execute_result"
    }
   ],
   "source": [
    "C_btw1 = nx.betweenness_centrality(undirected_G, normalized=True) # Bigger graph has bigger C_btw --> Have to normalized\n",
    "sorted(C_btw1.items(), key = operator.itemgetter(1), reverse=True)[0:5]"
   ]
  },
  {
   "cell_type": "markdown",
   "metadata": {},
   "source": [
    "#### When calculating C_btw, cosinder only the nodes (s,t) if there exists at least one path between them"
   ]
  },
  {
   "cell_type": "code",
   "execution_count": 47,
   "metadata": {},
   "outputs": [
    {
     "data": {
      "text/plain": [
       "[('45', 0.05771307885141044),\n",
       " ('37', 0.05345373490045657),\n",
       " ('1', 0.04349181091653338),\n",
       " ('35', 0.03502217442631642),\n",
       " ('38', 0.027633080111548348)]"
      ]
     },
     "execution_count": 47,
     "metadata": {},
     "output_type": "execute_result"
    }
   ],
   "source": [
    "C_btw2 = nx.betweenness_centrality(directed_G, normalized=True, endpoints=False)\n",
    "sorted(C_btw2.items(), key = operator.itemgetter(1), reverse=True)[0:5]"
   ]
  },
  {
   "cell_type": "markdown",
   "metadata": {},
   "source": [
    "#### Time complexity: O(n^3) --> Need to approximate"
   ]
  },
  {
   "cell_type": "markdown",
   "metadata": {},
   "source": [
    "##### (1) sampling"
   ]
  },
  {
   "cell_type": "code",
   "execution_count": 50,
   "metadata": {},
   "outputs": [
    {
     "data": {
      "text/plain": [
       "[('37', 0.06406031849552636),\n",
       " ('45', 0.0639774661778712),\n",
       " ('1', 0.02987717565260807),\n",
       " ('35', 0.028992104079420395),\n",
       " ('38', 0.026448850792715795)]"
      ]
     },
     "execution_count": 50,
     "metadata": {},
     "output_type": "execute_result"
    }
   ],
   "source": [
    "C_btw3 = nx.betweenness_centrality(directed_G, k=10, normalized=True)\n",
    "sorted(C_btw3.items(), key = operator.itemgetter(1), reverse=True)[0:5]"
   ]
  },
  {
   "cell_type": "markdown",
   "metadata": {},
   "source": [
    "##### (2) Subset"
   ]
  },
  {
   "cell_type": "code",
   "execution_count": 53,
   "metadata": {},
   "outputs": [
    {
     "data": {
      "text/plain": [
       "[('1', 7.001858119153021e-05),\n",
       " ('35', 7.001858119153021e-05),\n",
       " ('37', 7.001858119153021e-05),\n",
       " ('45', 7.001858119153021e-05),\n",
       " ('47', 4.6060417353271825e-05)]"
      ]
     },
     "execution_count": 53,
     "metadata": {},
     "output_type": "execute_result"
    }
   ],
   "source": [
    "C_btw4 = nx.betweenness_centrality_subset(directed_G, \\\n",
    "                                          sources = [str(x) for x in range(1,10)], \\\n",
    "                                          targets = [str(x) for x in range(25,35)], \\\n",
    "                                          normalized = True)\n",
    "sorted(C_btw4.items(), key = operator.itemgetter(1), reverse=True)[0:5]"
   ]
  },
  {
   "cell_type": "markdown",
   "metadata": {},
   "source": [
    "#### Edge betweenness"
   ]
  },
  {
   "cell_type": "code",
   "execution_count": 54,
   "metadata": {},
   "outputs": [
    {
     "data": {
      "text/plain": [
       "[(('146', '59'), 0.010028136498088163),\n",
       " (('97', '14'), 0.009955991631195437),\n",
       " (('68', '166'), 0.005519082317293124),\n",
       " (('147', '146'), 0.005050140682490442),\n",
       " (('145', '68'), 0.005014068249044081)]"
      ]
     },
     "execution_count": 54,
     "metadata": {},
     "output_type": "execute_result"
    }
   ],
   "source": [
    "C_btw5 = nx.edge_betweenness_centrality(directed_G)\n",
    "sorted(C_btw5.items(), key = operator.itemgetter(1), reverse=True)[0:5]"
   ]
  },
  {
   "cell_type": "code",
   "execution_count": 55,
   "metadata": {},
   "outputs": [
    {
     "data": {
      "text/plain": [
       "[(('1', '28'), 5.651347906596445e-05),\n",
       " (('6', '31'), 5.475976437904833e-05),\n",
       " (('8', '28'), 5.290623572132842e-05),\n",
       " (('4', '27'), 4.6829580860000895e-05),\n",
       " (('4', '34'), 4.657548160902897e-05)]"
      ]
     },
     "execution_count": 55,
     "metadata": {},
     "output_type": "execute_result"
    }
   ],
   "source": [
    "C_btw6 = nx.edge_betweenness_centrality_subset(directed_G, \\\n",
    "                                               sources = [str(x) for x in range(1,10)], \\\n",
    "                                               targets = [str(x) for x in range(25,35)], \\\n",
    "                                               normalized = True)\n",
    "sorted(C_btw6.items(), key=operator.itemgetter(1), reverse=True)[0:5]"
   ]
  },
  {
   "cell_type": "code",
   "execution_count": null,
   "metadata": {
    "collapsed": true
   },
   "outputs": [],
   "source": []
  }
 ],
 "metadata": {
  "kernelspec": {
   "display_name": "Python 3",
   "language": "python",
   "name": "python3"
  },
  "language_info": {
   "codemirror_mode": {
    "name": "ipython",
    "version": 3
   },
   "file_extension": ".py",
   "mimetype": "text/x-python",
   "name": "python",
   "nbconvert_exporter": "python",
   "pygments_lexer": "ipython3",
   "version": "3.6.1"
  }
 },
 "nbformat": 4,
 "nbformat_minor": 2
}
