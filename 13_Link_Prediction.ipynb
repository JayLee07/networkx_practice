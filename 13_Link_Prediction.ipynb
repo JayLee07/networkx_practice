{
 "cells": [
  {
   "cell_type": "code",
   "execution_count": 16,
   "metadata": {
    "collapsed": true
   },
   "outputs": [],
   "source": [
    "import networkx as nx\n",
    "import numpy as np\n",
    "import pandas as pd\n",
    "import matplotlib.pyplot as plt\n",
    "%matplotlib inline\n",
    "import operator"
   ]
  },
  {
   "cell_type": "code",
   "execution_count": 2,
   "metadata": {
    "collapsed": true
   },
   "outputs": [],
   "source": [
    "undirected_G = nx.read_adjlist('dataset/karate.adjlist', \\\n",
    "                               create_using=nx.Graph(), nodetype=str)\n",
    "directed_G = nx.read_edgelist('dataset/email_network.txt', delimiter = '\\t',\\\n",
    "                             create_using = nx.DiGraph(), nodetype=str,\\\n",
    "                            data = [('time', int)])"
   ]
  },
  {
   "cell_type": "markdown",
   "metadata": {},
   "source": [
    "### Link Prediction : What new edges are likely to form?"
   ]
  },
  {
   "cell_type": "markdown",
   "metadata": {},
   "source": [
    "#### Measure(1): Common Neighbors"
   ]
  },
  {
   "cell_type": "code",
   "execution_count": 17,
   "metadata": {
    "collapsed": true
   },
   "outputs": [],
   "source": [
    "common_neigh = [(e[0], e[1], len(list(nx.common_neighbors(undirected_G, e[0], e[1])))) for e in nx.non_edges(undirected_G)]\n",
    "common_neigh = sorted(common_neigh, key = operator.itemgetter(2), reverse=True)"
   ]
  },
  {
   "cell_type": "markdown",
   "metadata": {},
   "source": [
    "#### Measure(2): Jaccard Coeff\n",
    "#### (# of common neighbors btw 2 nodes) / (# of total neighbors of 2 nodes)"
   ]
  },
  {
   "cell_type": "code",
   "execution_count": 23,
   "metadata": {
    "collapsed": true
   },
   "outputs": [],
   "source": [
    "coeff = nx.jaccard_coefficient(undirected_G)\n",
    "coeff = list(coeff)\n",
    "coeff = sorted(coeff, key = operator.itemgetter(2), reverse=True)"
   ]
  },
  {
   "cell_type": "markdown",
   "metadata": {},
   "source": [
    "#### Measure(3): Resource Allocation\n",
    "#### A node can send 'resource' to another through common neighbors"
   ]
  },
  {
   "cell_type": "code",
   "execution_count": 27,
   "metadata": {
    "collapsed": true
   },
   "outputs": [],
   "source": [
    "alloc = nx.resource_allocation_index(undirected_G)\n",
    "alloc = list(alloc)\n",
    "alloc = sorted(alloc, key = operator.itemgetter(2), reverse=True)"
   ]
  },
  {
   "cell_type": "markdown",
   "metadata": {},
   "source": [
    "#### Measure(4): Adamic-Adar Index\n",
    "#### Resource allocation with log scale denominator"
   ]
  },
  {
   "cell_type": "code",
   "execution_count": 31,
   "metadata": {
    "collapsed": true
   },
   "outputs": [],
   "source": [
    "adar = nx.adamic_adar_index(undirected_G)\n",
    "adar = list(adar)\n",
    "adar = sorted(adar, key = operator.itemgetter(2), reverse=True)"
   ]
  },
  {
   "cell_type": "markdown",
   "metadata": {},
   "source": [
    "#### Measure(5): Preferential attachment\n",
    "#### Product of nodes degrees\n",
    "#### Nodes with high degree tends to get more neighbors"
   ]
  },
  {
   "cell_type": "code",
   "execution_count": 33,
   "metadata": {},
   "outputs": [],
   "source": [
    "pref = nx.preferential_attachment(undirected_G)\n",
    "pref = list(pref)\n",
    "pref = sorted(pref, key = operator.itemgetter(2), reverse=True)"
   ]
  },
  {
   "cell_type": "markdown",
   "metadata": {},
   "source": [
    "## Link Prediction with community structure\n",
    "#### If two nodes are in same community, high tendency to have link btw them"
   ]
  },
  {
   "cell_type": "markdown",
   "metadata": {},
   "source": [
    "#### Measure(6): Community Common Neighbors\n",
    "#### nx.cn_soundarajan_hopcroft(G)\n",
    "#### (# of common neighbors) + 1(same community)"
   ]
  },
  {
   "cell_type": "markdown",
   "metadata": {},
   "source": [
    "#### Measure(7) : Similar to measure(6), but only consider nodes in the same community\n",
    "#### nx.ra_index_soundarajan_hopcroft(G)"
   ]
  },
  {
   "cell_type": "code",
   "execution_count": null,
   "metadata": {
    "collapsed": true
   },
   "outputs": [],
   "source": []
  }
 ],
 "metadata": {
  "kernelspec": {
   "display_name": "Python 3",
   "language": "python",
   "name": "python3"
  },
  "language_info": {
   "codemirror_mode": {
    "name": "ipython",
    "version": 3
   },
   "file_extension": ".py",
   "mimetype": "text/x-python",
   "name": "python",
   "nbconvert_exporter": "python",
   "pygments_lexer": "ipython3",
   "version": "3.6.1"
  }
 },
 "nbformat": 4,
 "nbformat_minor": 2
}
