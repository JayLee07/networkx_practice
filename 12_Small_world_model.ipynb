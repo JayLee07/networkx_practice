{
 "cells": [
  {
   "cell_type": "code",
   "execution_count": 1,
   "metadata": {
    "collapsed": true
   },
   "outputs": [],
   "source": [
    "import networkx as nx\n",
    "import numpy as np\n",
    "import pandas as pd\n",
    "import matplotlib.pyplot as plt\n",
    "%matplotlib inline"
   ]
  },
  {
   "cell_type": "code",
   "execution_count": 2,
   "metadata": {},
   "outputs": [
    {
     "name": "stdout",
     "output_type": "stream",
     "text": [
      "0.04012172129739126\n",
      "3.174898898898899\n"
     ]
    }
   ],
   "source": [
    "G_barabasi = nx.barabasi_albert_graph(1000, 4)\n",
    "print(nx.average_clustering(G_barabasi))\n",
    "print(nx.average_shortest_path_length(G_barabasi))"
   ]
  },
  {
   "cell_type": "markdown",
   "metadata": {},
   "source": [
    "### Small World Model: nx.watts_strogatz_graph\n",
    "\n",
    "#### Real network: high clustering coeff, small average shortest path\n",
    "#### Network generative model with both properties"
   ]
  },
  {
   "cell_type": "code",
   "execution_count": 4,
   "metadata": {},
   "outputs": [
    {
     "data": {
      "image/png": "[encoded data removed]",
      "text/plain": [
       "<matplotlib.figure.Figure at 0x1600c319c50>"
      ]
     },
     "metadata": {},
     "output_type": "display_data"
    }
   ],
   "source": [
    "G_watts = nx.watts_strogatz_graph(1000,6,0.04)\n",
    "degrees = G_watts.degree()\n",
    "degree_values = sorted(dict(degrees).values())\n",
    "hist = [degree_values.count(i) / float(nx.number_of_nodes(G_watts)) \\\n",
    "        for i in degree_values]\n",
    "\n",
    "plt.bar(degree_values, hist)\n",
    "plt.xlabel('Degree')\n",
    "plt.ylabel('Fraction')\n",
    "plt.show()"
   ]
  },
  {
   "cell_type": "markdown",
   "metadata": {},
   "source": [
    "#### The edges of above graph are rewired uniformly at random\n",
    "#### No nodes accumulated very high degree, like preferential attachment model"
   ]
  },
  {
   "cell_type": "markdown",
   "metadata": {},
   "source": [
    "#### Also, small world networks can be disconnected\n",
    "##### connected_watts_strogatz_graph(n, k, p, t) --> Run watts up to t times\n",
    "##### Until? Returns a connected small world network"
   ]
  },
  {
   "cell_type": "code",
   "execution_count": 6,
   "metadata": {},
   "outputs": [
    {
     "data": {
      "image/png": "[encoded data removed]",
      "text/plain": [
       "<matplotlib.figure.Figure at 0x1600f076400>"
      ]
     },
     "metadata": {},
     "output_type": "display_data"
    }
   ],
   "source": [
    "G_con_watts = nx.connected_watts_strogatz_graph(1000, 6, 0.04, tries = 50)\n",
    "degrees = G_con_watts.degree()\n",
    "degree_values = sorted(dict(degrees).values())\n",
    "hist = [degree_values.count(i) / float(nx.number_of_nodes(G_con_watts))\\\n",
    "        for i in degree_values]\n",
    "plt.bar(degree_values, hist)\n",
    "plt.xlabel('degrees')\n",
    "plt.ylabel('fraction')\n",
    "plt.show()"
   ]
  },
  {
   "cell_type": "markdown",
   "metadata": {},
   "source": [
    "#### newman_watts_strogatz_graph\n",
    "#### Instead of rewiring edges, new edges are added with prob p"
   ]
  },
  {
   "cell_type": "code",
   "execution_count": 7,
   "metadata": {},
   "outputs": [
    {
     "data": {
      "image/png": "[encoded data removed]",
      "text/plain": [
       "<matplotlib.figure.Figure at 0x1600d8aca58>"
      ]
     },
     "metadata": {},
     "output_type": "display_data"
    }
   ],
   "source": [
    "G_newman_watts = nx.newman_watts_strogatz_graph(1000, 6, 0.04)\n",
    "degrees = G_newman_watts.degree()\n",
    "degree_values = sorted(dict(degrees).values())\n",
    "hist = [degree_values.count(i) / float(nx.number_of_nodes(G_newman_watts))\\\n",
    "        for i in degree_values]\n",
    "\n",
    "plt.bar(degree_values, hist)\n",
    "plt.xlabel('degrees')\n",
    "plt.ylabel('fraction')\n",
    "plt.show()"
   ]
  },
  {
   "cell_type": "code",
   "execution_count": null,
   "metadata": {
    "collapsed": true
   },
   "outputs": [],
   "source": []
  }
 ],
 "metadata": {
  "kernelspec": {
   "display_name": "Python 3",
   "language": "python",
   "name": "python3"
  },
  "language_info": {
   "codemirror_mode": {
    "name": "ipython",
    "version": 3
   },
   "file_extension": ".py",
   "mimetype": "text/x-python",
   "name": "python",
   "nbconvert_exporter": "python",
   "pygments_lexer": "ipython3",
   "version": "3.6.1"
  }
 },
 "nbformat": 4,
 "nbformat_minor": 2
}
